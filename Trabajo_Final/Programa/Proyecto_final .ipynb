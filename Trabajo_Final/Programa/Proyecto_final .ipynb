{
 "cells": [
  {
   "cell_type": "code",
   "execution_count": 1,
   "id": "624d2fc9",
   "metadata": {},
   "outputs": [
    {
     "name": "stdout",
     "output_type": "stream",
     "text": [
      "============================\n",
      "  Holiiii vamos a jugar  \n",
      "============================\n",
      "El objetivo es adivinar un número entre el 1 y el 20\n",
      "Adivina un número entre 1 y 20: 1\n",
      "Estas muy frio chavo\n",
      "Adivina un número entre 1 y 20: 2\n",
      "Estas muy frio chavo\n",
      "Adivina un número entre 1 y 20: 5\n",
      "Estas muy frio chavo\n",
      "Adivina un número entre 1 y 20: 13\n",
      "¡Felicitaciones! Adivinaste el número 13, te ganaste un chocolate\n"
     ]
    }
   ],
   "source": [
    "import random\n",
    "\n",
    "# El usuario adivina el número aleatorio generado por la computadora.\n",
    "def adivina_el_número(x):\n",
    "\n",
    "    print(\"============================\")\n",
    "    print(\"  Holiiii vamos a jugar  \")\n",
    "    print(\"============================\")\n",
    "    print(\"El objetivo es adivinar un número entre el 1 y el 20\")\n",
    "\n",
    "    número_aleatorio = random.randint(1, x) # número aleatorio entre 1 y x.\n",
    "\n",
    "    # La predicción es 0 inicialmente para que no coincida con el número aleatorio. \n",
    "    predicción = 0\n",
    "\n",
    "    # Continuar prediciendo el número hasta que la predicción sea correcta.\n",
    "    while predicción != número_aleatorio:\n",
    "        # El usuario ingresa un número.\n",
    "        predicción = int(input(f'Adivina un número entre 1 y {x}: '))\n",
    "        # Si el número es menor que el número aleatorio, se \n",
    "        # muestra un mensaje.\n",
    "        if predicción < número_aleatorio:\n",
    "            print('Estas muy frio chavo')\n",
    "        # Si el número es mayor que el número aleatorio, se\n",
    "        # muestra un mensaje.\n",
    "        elif predicción > número_aleatorio:\n",
    "            print('Estas muy caliente')\n",
    "\n",
    "    # El ciclo o bucle se detiene cuando el usuario adivina el número\n",
    "    # correctamente y se muestra un mensaje final.\n",
    "    print(f'¡Felicitaciones! Adivinaste el número {número_aleatorio}, te ganaste un chocolate')\n",
    "\n",
    "# Llamar a la función\n",
    "adivina_el_número(20)"
   ]
  },
  {
   "cell_type": "code",
   "execution_count": 2,
   "id": "e9913c69",
   "metadata": {},
   "outputs": [
    {
     "name": "stdout",
     "output_type": "stream",
     "text": [
      "============================\n",
      "  Holiiii vamos a jugar  \n",
      "============================\n",
      "El objetivo es adivinar un número entre el 1 y el 20\n",
      "Adivina un número entre 1 y 20: 3\n",
      "Estas muy frio chavo\n",
      "Adivina un número entre 1 y 20: 4\n",
      "Estas muy frio chavo\n",
      "Adivina un número entre 1 y 20: 6\n",
      "Estas muy frio chavo\n",
      "Adivina un número entre 1 y 20: 8\n",
      "Estas muy frio chavo\n",
      "Adivina un número entre 1 y 20: 14\n",
      "¡Felicitaciones! Adivinaste el número 14, te ganaste un chocolate\n"
     ]
    }
   ],
   "source": [
    "adivina_el_número(20)\n"
   ]
  },
  {
   "cell_type": "code",
   "execution_count": 3,
   "id": "899bed14",
   "metadata": {},
   "outputs": [
    {
     "name": "stdout",
     "output_type": "stream",
     "text": [
      "============================\n",
      "  Holiiii vamos a jugar  \n",
      "============================\n",
      "El objetivo es adivinar un número entre el 1 y el 20\n",
      "Adivina un número entre 1 y 20: 16\n",
      "Estas muy caliente\n",
      "Adivina un número entre 1 y 20: 18\n",
      "Estas muy caliente\n",
      "Adivina un número entre 1 y 20: 17\n",
      "Estas muy caliente\n",
      "Adivina un número entre 1 y 20: 15\n",
      "Estas muy caliente\n",
      "Adivina un número entre 1 y 20: 19\n",
      "Estas muy caliente\n",
      "Adivina un número entre 1 y 20: 20\n",
      "Estas muy caliente\n",
      "Adivina un número entre 1 y 20: 14\n",
      "Estas muy caliente\n",
      "Adivina un número entre 1 y 20: 13\n",
      "Estas muy caliente\n",
      "Adivina un número entre 1 y 20: 12\n",
      "Estas muy caliente\n",
      "Adivina un número entre 1 y 20: 11\n",
      "Estas muy caliente\n",
      "Adivina un número entre 1 y 20: 10\n",
      "Estas muy caliente\n",
      "Adivina un número entre 1 y 20: 7\n",
      "Estas muy caliente\n",
      "Adivina un número entre 1 y 20: 9\n",
      "Estas muy caliente\n",
      "Adivina un número entre 1 y 20: 3\n",
      "Estas muy caliente\n",
      "Adivina un número entre 1 y 20: 1\n",
      "¡Felicitaciones! Adivinaste el número 1, te ganaste un chocolate\n"
     ]
    }
   ],
   "source": [
    "adivina_el_número(20)\n"
   ]
  },
  {
   "cell_type": "code",
   "execution_count": null,
   "id": "4330ffa3",
   "metadata": {},
   "outputs": [],
   "source": []
  }
 ],
 "metadata": {
  "kernelspec": {
   "display_name": "Python 3 (ipykernel)",
   "language": "python",
   "name": "python3"
  },
  "language_info": {
   "codemirror_mode": {
    "name": "ipython",
    "version": 3
   },
   "file_extension": ".py",
   "mimetype": "text/x-python",
   "name": "python",
   "nbconvert_exporter": "python",
   "pygments_lexer": "ipython3",
   "version": "3.9.7"
  }
 },
 "nbformat": 4,
 "nbformat_minor": 5
}
