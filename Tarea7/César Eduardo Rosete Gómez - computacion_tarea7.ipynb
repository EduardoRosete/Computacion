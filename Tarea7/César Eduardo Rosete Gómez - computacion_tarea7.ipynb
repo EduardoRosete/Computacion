{
 "cells": [
  {
   "cell_type": "markdown",
   "metadata": {},
   "source": [
    "# Tarea 7: Revisión de los conceptos básicos de Python\n",
    "### Computación - 8108\n",
    "#### Facultad de Ciencias - UNAM\n",
    "#### Profesores: C. Fís. Omar Trejo, C. Fís. Iván Jiménez, Pedro Flores-Silva\n",
    "\n",
    "Instrucciones: Este notebook contiene una serie de ejercicios que deben ser resueltos. Cada ejercicio se encuentra en una celda, ya sea de código o Markdown. Debes crear una o dos *celdas debajo de cada ejercicio* con tu(s) respectiva(s) respuestas. No modifiques las celdas originales.\n",
    "Recuerda que para ejecutar el código de una celda, presionar `Ctlr + Enter` o bien el boton de `play` en el editor Jupyter notebook.\n",
    "\n",
    "Cada ejercicio tendrá diferente valor, y se indicará en la celda de éste. La calificación final será la suma de los puntos obtenidos en cada ejercicio. Se calificará considerando la calidad de la respuesta, la claridad de la explicación y la correctitud del código. Por ejemplo, si el código no ejecuta la respuesta correcta pero se da una idea textual, se demuestra que hay comprensión del problema y el código hace sentido para el revisor, se otorgará una calificación parcial. Esto es, las respuestas no solo se evaluarán como bien o mal, sino que se considerará el esfuerzo. \n",
    "\n",
    "El codigo que realices debes comentarlo donde creas necesario, no vale no hacer ningún comentario. Recuerda que los comentarios son importantes para que el código sea legible y entendible, éstos se agregan con el símbolo # ."
   ]
  },
  {
   "cell_type": "markdown",
   "metadata": {},
   "source": [
    "### Ejercicio 1 (1 punto):\n",
    "En una celda Markdown contesta: ¿Qué es un nombre reservado en python? Enlista 5 ejemplos de nombres reservados en python y describe su función (aquí debes investigar su función si es que aún no hemos tratado dicho nombre reservado)."
   ]
  },
  {
   "cell_type": "markdown",
   "metadata": {},
   "source": [
    "Un nombre reservado en python es aquel que define una función, atributo o similar del lenguaje, y que portanto no se puede usar para definir variables ya que esta invoca un proceso.  \n",
    " + def: es el inicio de una definición de una función\n",
    " + if: es el inicio de una condicional\n",
    " + for: es el inicio de un ciclo\n",
    " + class: es el inicio de la declaración de una clase\n",
    " + return: forza el regreso de un valor de un ciclo o función"
   ]
  },
  {
   "cell_type": "code",
   "execution_count": null,
   "metadata": {},
   "outputs": [],
   "source": []
  },
  {
   "cell_type": "markdown",
   "metadata": {},
   "source": [
    "### Ejercicio 2 (1 punto):\n",
    "En una celda Markdown: Coloca tres ejemplos de nombres de variables que no son válidos en python. Explica por qué no son válidos."
   ]
  },
  {
   "cell_type": "markdown",
   "metadata": {},
   "source": [
    "Ejemplos:\n",
    "+ 345L- pues python toma cualquier cosa que empiece con numeros como un valor int, float, etc. lo cual ocaciona un error pues no genara una variable. \n",
    "+ list- pues es una de las funciones de python por lo que en lugar de asignarle el valor que busca la persona, llama a la función que esta hace. \n",
    "+ guerra y paz- pues python no acepta espacios en las variables\n",
    "    "
   ]
  },
  {
   "cell_type": "code",
   "execution_count": null,
   "metadata": {},
   "outputs": [],
   "source": []
  },
  {
   "cell_type": "markdown",
   "metadata": {},
   "source": [
    "### Ejercicio 3 (3 puntos):\n",
    "Considera el siguiente polinomio: $f(x) = 10x^2 - 2x$. \n",
    "\n",
    "En una celda Markdown escribe:\n",
    "* Los pasos para encontrar sus raíces a través del método del despeje.\n",
    "* Los pasos para encontrar sus raíces a través del método de la chicharronera.\n",
    "\n",
    "En una celda de código, escribe un programa que compruebe que las raíces del polinomio $f(x) = 10x^2 - 2x$ que tu encontraste son correctas. El programa debe imprimir las raíces en la pantalla. (Debes usar la ecuación que obtuviste al depejar el polinomio).\n",
    "\n",
    "En otra celda de código, escribe un programa que encuentre las raíces del polinomio $f(x) = 10x^2 - 2x$ a través del método de la chicharronera. El programa debe imprimir las raíces en la pantalla. (Debes usar la chicharronera).\n",
    "\n",
    "Considera los signos de la chicharronera como dos operaciones diferentes: $(-)$ y $(+)$."
   ]
  },
  {
   "cell_type": "markdown",
   "metadata": {},
   "source": [
    "Método de despeje:\n",
    "  \n",
    "  En primer lugar, igualamos el polinomio a 0. Después, buscamos una factorización que nos lleve el polinomio a terminos lineales. Finalmente, igualamos a 0 cada una de las factorizaciones, por separado y despejamos x.\n",
    "+ $f(x) = 10x^2 - 2x$ \n",
    "+ $0 = 10x^2 - 2x$\n",
    "+ $0 = 2(5x^2 - x)$\n",
    "+ $0/2 = 5x^2 - x$\n",
    "+ $0 = 5x^2 - x$\n",
    "+ $0 = 5x(x-\\frac{1}{5})$\n",
    "      entonces \n",
    "+ $x_1=0$\n",
    "+ $x_2=\\frac{1}{5}$"
   ]
  },
  {
   "cell_type": "code",
   "execution_count": 11,
   "metadata": {},
   "outputs": [
    {
     "name": "stdout",
     "output_type": "stream",
     "text": [
      "x_1= 0.0\n",
      "x_2= 0.2\n"
     ]
    }
   ],
   "source": [
    "#Método despeje\n",
    "#declaración de coeficientes \n",
    "c1_p1=5\n",
    "c2_p1=0\n",
    "c1_p2=1\n",
    "c2_p2=-1/5\n",
    "#despeje de los polinomios resultantes de la factorización \n",
    "root_1=-c2_p1/c1_p1\n",
    "root_2=-c2_p2/c1_p2\n",
    "print('x_1=',root_1)\n",
    "print('x_2=',root_2)"
   ]
  },
  {
   "cell_type": "markdown",
   "metadata": {},
   "source": [
    "Método de chicharonera:\n",
    "      El método de la chicharonera, deriva de hacer el despeje de 'x' de una ecuación general de segundo grado.\n",
    "          De tal forma que queda 'x' en terminos de sus coeficientes y el termino constante. De forma que si $ax^2+bx+c$ entonces $x_1=\\frac{-b-\\sqrt(b^2-4ac)}{2a}$  $x_2=\\frac{-b+\\sqrt(b^2-4ac)}{2a}$ "
   ]
  },
  {
   "cell_type": "code",
   "execution_count": 40,
   "metadata": {},
   "outputs": [
    {
     "name": "stdout",
     "output_type": "stream",
     "text": [
      "x_1= 0.0\n",
      "x_2= 0.2\n"
     ]
    }
   ],
   "source": [
    "#Método chicharonera \n",
    "import math as m\n",
    "#declaración de coeficientes \n",
    "a=10\n",
    "b=-2\n",
    "c=0\n",
    "#Obtención de la raiz mediante la fórmula \n",
    "raiz1=(-b-m.sqrt(b**2-(4*a*c)))/(2*a)\n",
    "raiz2=(-b+m.sqrt(b**2-4*a*c))/(2*a)\n",
    "print('x_1=',raiz1)\n",
    "print('x_2=',raiz2)"
   ]
  },
  {
   "cell_type": "code",
   "execution_count": null,
   "metadata": {},
   "outputs": [],
   "source": []
  },
  {
   "cell_type": "code",
   "execution_count": null,
   "metadata": {},
   "outputs": [],
   "source": []
  },
  {
   "cell_type": "markdown",
   "metadata": {},
   "source": [
    "### Ejercicio 4 (3 puntos):\n",
    "Caida libre: El gran Galileo Galilei subió la torre de Pisa para determinar el tiempo que tarda un objeto en caer desde una altura $H$ al suelo. Para ello, colocó un objeto de masa $m=100$ kg en la torre y lo dejó caer. El tiempo que tardó en caer fue $t=0.05616667$ minutos.\n",
    "\n",
    "Considerando que la aceleración de la gravedad es $g=9.8$ $\\frac{m}{s^2}$, escribe un programa que determine la altura de la torre de Pisa. El programa debe imprimir la altura en la pantalla.\n",
    "\n",
    "Recuerda que el movimiento de caída libre simplificado cumple la ecuación: $y(t) = H + vt - \\frac{1}{2}gt^2$.\n"
   ]
  },
  {
   "cell_type": "code",
   "execution_count": 43,
   "metadata": {},
   "outputs": [
    {
     "name": "stdout",
     "output_type": "stream",
     "text": [
      "La altura de la torre es:  55.64881660520021 m\n"
     ]
    }
   ],
   "source": [
    "#el programa considerara el suelo como el 0 del sistema de referencias \n",
    "#se asumira que en el momento de las medidas la torre no estaba chueca \n",
    "#notamos que el tiempo esta en minutos por lo que es necesario cambiarlo a segundos \n",
    "#tomando en cuenta el sistema de referencia, tenemos que 0=H+vt-(.5)gt^2\n",
    "#como es una caida libre, la velocidad inicial es v_0=0\n",
    "#tenemos entonces H=.5gt^2\n",
    "#declaración de variables \n",
    "t_m=0.05616667\n",
    "#cambio de tiempo en min a seg\n",
    "t_s=t_m*60\n",
    "g=9.8\n",
    "H=(1/2)*g*(t_s**2)\n",
    "print('La altura de la torre es: ', H,'m')"
   ]
  },
  {
   "cell_type": "code",
   "execution_count": null,
   "metadata": {},
   "outputs": [],
   "source": []
  },
  {
   "cell_type": "markdown",
   "metadata": {},
   "source": [
    "### Ejercicio 5 (2 puntos):\n",
    "Considera una lista de números enteros del 0 al 99 : `lista = [0,1, 2, 3, 4, ... , 95, 96, 97, 98, 99]`.\n",
    "En una celda de código, escribe un programa que imprima en la pantalla una la lista que cumpla con las siguientes condiciones:\n",
    "* Los ultimos 10 elementos: debe imprimir lo siguiente `[90, 91, 92, 93, 94, 95, 96, 97, 98, 99]`.\n",
    "* Los primeros 11 elementos: debe imprimir lo siguiente `[0, 1, 2, 3, 4, 5, 6, 7, 8, 9, 10]`.\n",
    "* La serie de elementos de la lista que están entre 60 y 75: debe imprimir lo siguiente `[60, 61, 62, 63, 64, 65, 66, 67, 68, 69, 70, 71, 72, 73, 74, 75]`.\n",
    "* El número 50: debe imprimir lo siguiente `50`.\n",
    "\n",
    "Debes aplicar el concepto de *slicing* para resolver este ejercicio (notación de puntos `[:]`).\n",
    "\n",
    "Puntos menos si se crean listas nuevas para cada caso y/o se seleccionan manualmente los valores.\n",
    "\n",
    "El código de abajo te ayudará a crear la lista del 0 al 99."
   ]
  },
  {
   "cell_type": "code",
   "execution_count": 50,
   "metadata": {},
   "outputs": [
    {
     "name": "stdout",
     "output_type": "stream",
     "text": [
      "[90, 91, 92, 93, 94, 95, 96, 97, 98, 99]\n",
      "[0, 1, 2, 3, 4, 5, 6, 7, 8, 9, 10]\n",
      "[60, 61, 62, 63, 64, 65, 66, 67, 68, 69, 70, 71, 72, 73, 74, 75]\n",
      "50\n"
     ]
    }
   ],
   "source": [
    "lista = list(range(100))\n",
    "print(lista[90:])\n",
    "print(lista[:11])\n",
    "print(lista[60:76])\n",
    "n_50=lista[50]\n",
    "print(n_50)"
   ]
  },
  {
   "cell_type": "code",
   "execution_count": null,
   "metadata": {},
   "outputs": [],
   "source": []
  },
  {
   "cell_type": "markdown",
   "metadata": {},
   "source": [
    "### Puntos extras, este ejercicio es opcional (5 puntos):\n",
    "Replica el código visto en clase para simular los volados. Discute los resultados obtenidos. ¿Qué observas? ¿Qué puedes concluir? ¿Qué pasa cuando la cantidad de volados es muy pequeña? ¿Qué pasa cuando la cantidad de volados es muy grande?\n",
    "\n",
    "En caso de errores con librerias no encontradas, debes hacer en una celda de código lo siguiente:\n",
    "\n",
    "`!pip install nombre_de_la_libreria`. Por ejemplo para plotly: `!pip install plotly`."
   ]
  },
  {
   "cell_type": "code",
   "execution_count": 83,
   "metadata": {},
   "outputs": [
    {
     "name": "stdout",
     "output_type": "stream",
     "text": [
      "Defaulting to user installation because normal site-packages is not writeable\n",
      "Requirement already satisfied: plotly in c:\\programdata\\anaconda3\\lib\\site-packages (5.9.0)\n",
      "Requirement already satisfied: tenacity>=6.2.0 in c:\\programdata\\anaconda3\\lib\\site-packages (from plotly) (8.0.1)\n"
     ]
    }
   ],
   "source": [
    "!pip install plotly"
   ]
  }
 ],
 "metadata": {
  "kernelspec": {
   "display_name": "Python 3 (ipykernel)",
   "language": "python",
   "name": "python3"
  },
  "language_info": {
   "codemirror_mode": {
    "name": "ipython",
    "version": 3
   },
   "file_extension": ".py",
   "mimetype": "text/x-python",
   "name": "python",
   "nbconvert_exporter": "python",
   "pygments_lexer": "ipython3",
   "version": "3.9.7"
  },
  "vscode": {
   "interpreter": {
    "hash": "ad2bdc8ecc057115af97d19610ffacc2b4e99fae6737bb82f5d7fb13d2f2c186"
   }
  }
 },
 "nbformat": 4,
 "nbformat_minor": 2
}
